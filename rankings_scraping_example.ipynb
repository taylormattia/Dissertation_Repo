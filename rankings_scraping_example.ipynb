{
 "cells": [
  {
   "cell_type": "code",
   "execution_count": 1499,
   "metadata": {
    "collapsed": true
   },
   "outputs": [],
   "source": [
    "#Importing request library\n",
    "import urllib.request \n",
    "  \n",
    "# pretty-print python data structures \n",
    "from pprint import pprint \n",
    "  \n",
    "#Parsing HTML tables\n",
    "from html_table_parser import HTMLTableParser \n",
    "  \n",
    "# for converting the parsed data in a \n",
    "# pandas dataframe \n",
    "import pandas as pd \n",
    "import numpy as np\n",
    "    \n",
    "# Opens a website and read its \n",
    "# binary contents (HTTP Response Body) \n",
    "def url_get_contents(url): \n",
    "  \n",
    "    # Opens a website and read its \n",
    "    # binary contents (HTTP Response Body) \n",
    "  \n",
    "    #making request to the website \n",
    "    req = urllib.request.Request(url=url) \n",
    "    f = urllib.request.urlopen(req) \n",
    "  \n",
    "    #reading contents of the website \n",
    "    return f.read() \n",
    "  \n",
    "# defining the html contents of a URL.' Example: Ratings for Winter 2013-2014 for Boys' Soccer\n",
    "#Creating empty url list\n",
    "url_list = []\n",
    "\n",
    "#Defining number of pages and defining url \n",
    "num_pages = 65\n",
    "for i in range(1, num_pages + 1):\n",
    "    url_list.append('https://www.maxpreps.com/rankings/soccer-winter-13-14/' + str(i) + '/national.htm')\n"
   ]
  },
  {
   "cell_type": "code",
   "execution_count": 1500,
   "metadata": {
    "collapsed": true
   },
   "outputs": [],
   "source": [
    "#url = 'https://www.maxpreps.com/rankings/baseball-spring-14/1/state/florida.htm'\n",
    "#xhtml = url_get_contents(url).decode('utf-8') \n",
    " \n",
    "#Getting contents of url list\n",
    "xhtml_list = []\n",
    "for i in range(0, num_pages):\n",
    "    xhtml_list.append(url_get_contents(url_list[i]).decode('utf-8'))"
   ]
  },
  {
   "cell_type": "code",
   "execution_count": 1501,
   "metadata": {
    "collapsed": true
   },
   "outputs": [],
   "source": [
    "# Defining the HTMLTableParser object\n",
    "p = []\n",
    "for i in range(0, num_pages):\n",
    "    p.append(HTMLTableParser()) "
   ]
  },
  {
   "cell_type": "code",
   "execution_count": 1502,
   "metadata": {
    "collapsed": true
   },
   "outputs": [],
   "source": [
    "#Parsing all tables\n",
    "for i in range(0, num_pages):\n",
    "    p[i].feed(xhtml_list[i]) "
   ]
  },
  {
   "cell_type": "code",
   "execution_count": 1503,
   "metadata": {
    "collapsed": true
   },
   "outputs": [],
   "source": [
    "#Grabbing rankings tables\n",
    "p_list = []\n",
    "for i in range(0, num_pages):\n",
    "    p_list.append(p[i].tables[0])\n"
   ]
  },
  {
   "cell_type": "code",
   "execution_count": 1504,
   "metadata": {
    "collapsed": true
   },
   "outputs": [],
   "source": [
    "#Creating a flat list from a list of lists\n",
    "import itertools\n",
    "merged = list(itertools.chain.from_iterable(p_list))\n",
    "#merged = list(itertools.chain.from_iterable(merged))\n"
   ]
  },
  {
   "cell_type": "code",
   "execution_count": 1505,
   "metadata": {
    "collapsed": true
   },
   "outputs": [],
   "source": [
    "#print(merged)"
   ]
  },
  {
   "cell_type": "code",
   "execution_count": 1506,
   "metadata": {
    "collapsed": true
   },
   "outputs": [],
   "source": [
    "#Putting tables into one data frame \n",
    "#baseball_rankings = pd.DataFrame(p.tables[0])\n",
    "baseball_rankings = pd.DataFrame(merged)\n",
    "\n",
    "#Drop duplicates\n",
    "baseball_rankings = baseball_rankings.drop_duplicates()\n",
    "\n",
    "#Getting headers and removing as first row\n",
    "headers = baseball_rankings.iloc[0]\n",
    "baseball_rankings  = pd.DataFrame(baseball_rankings.values[1:], columns=headers)\n",
    "\n",
    "#Adding class, state, and year (depending on rankings)\n",
    "#baseball_rankings['state'] = 'TN'\n",
    "#baseball_rankings['class'] = '8A'\n",
    "baseball_rankings['season'] = 'Winter 2014'"
   ]
  },
  {
   "cell_type": "code",
   "execution_count": 1507,
   "metadata": {},
   "outputs": [
    {
     "name": "stdout",
     "output_type": "stream",
     "text": [
      "0        #                                          School State  Ovr. Rating  \\\n",
      "0        1                       Madison Central (Madison)    MS  22-1   33.5   \n",
      "1        2                                         Coppell    TX  24-1   31.2   \n",
      "2        3                          St. Paul's (Covington)    LA  14-2   31.0   \n",
      "3        4                            Loyola (Los Angeles)    CA  30-0   29.7   \n",
      "4        5                   Montverde Academy (Montverde)    FL  23-0   29.0   \n",
      "...    ...                                             ...   ...   ...    ...   \n",
      "1558  1559                   Mountain Empire (Pine Valley)    CA  1-12  -23.1   \n",
      "1559  1560                  Foothills Christian (El Cajon)    CA  2-16  -23.5   \n",
      "1560  1561           Redlands Adventist Academy (Redlands)    CA  2-15  -25.5   \n",
      "1561  1562                     Kern Valley (Lake Isabella)    CA  0-16  -26.2   \n",
      "1562  1563  Academy for Academic Excellence (Apple Valley)    CA  0-22  -27.6   \n",
      "\n",
      "0      Str.   +/-       season  \n",
      "0      16.8        Winter 2014  \n",
      "1      14.4    +3  Winter 2014  \n",
      "2      13.9    -1  Winter 2014  \n",
      "3      12.5    -1  Winter 2014  \n",
      "4      13.0    -1  Winter 2014  \n",
      "...     ...   ...          ...  \n",
      "1558  -12.9  +420  Winter 2014  \n",
      "1559  -11.9  +421  Winter 2014  \n",
      "1560  -15.6  +429  Winter 2014  \n",
      "1561   -8.9  +430  Winter 2014  \n",
      "1562  -10.2  +432  Winter 2014  \n",
      "\n",
      "[1563 rows x 8 columns]\n"
     ]
    }
   ],
   "source": [
    "pprint(baseball_rankings)"
   ]
  },
  {
   "cell_type": "code",
   "execution_count": 1508,
   "metadata": {
    "collapsed": true
   },
   "outputs": [],
   "source": [
    "#Writing to an excel file\n",
    "baseball_rankings.to_excel('~/Dropbox/maxpreps_state_rankings/national/nat_boys_soccer_2014_3.xls', index=False)"
   ]
  },
  {
   "cell_type": "code",
   "execution_count": null,
   "metadata": {
    "collapsed": true
   },
   "outputs": [],
   "source": []
  }
 ],
 "metadata": {
  "kernelspec": {
   "display_name": "Python 3",
   "language": "python",
   "name": "python3"
  },
  "language_info": {
   "codemirror_mode": {
    "name": "ipython",
    "version": 3
   },
   "file_extension": ".py",
   "mimetype": "text/x-python",
   "name": "python",
   "nbconvert_exporter": "python",
   "pygments_lexer": "ipython3",
   "version": "3.6.10"
  }
 },
 "nbformat": 4,
 "nbformat_minor": 2
}
